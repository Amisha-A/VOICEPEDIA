{
  "nbformat": 4,
  "nbformat_minor": 0,
  "metadata": {
    "colab": {
      "name": "VOICEPEDIA ",
      "provenance": [],
      "collapsed_sections": []
    },
    "kernelspec": {
      "name": "python3",
      "display_name": "Python 3"
    }
  },
  "cells": [
    {
      "cell_type": "markdown",
      "metadata": {
        "id": "REruKrCaFtEn"
      },
      "source": [
        "**Mini Project ON** “ VOICEPEDIA ”\n",
        "\n",
        "**Submitted by**-\n",
        "\n",
        "Aishwarya gangyada (ENG19CS0017)\n",
        "\n",
        "Ananya BR (ENG19CS0031)\n",
        " \n",
        "Anusha T(ENG19CS0038)  \n",
        "  \n",
        "Amisha Asrani (ENG19CS0029) \n",
        "  \n",
        "Abhigna Srikara G (ENG19CS0008) \n"
      ]
    },
    {
      "cell_type": "markdown",
      "metadata": {
        "id": "iaqoB-3LS-lW"
      },
      "source": [
        "**PPT LINK** :\n",
        "\n",
        "  https://docs.google.com/presentation/d/1_DWl51XkdGIICfH6BJl2puW6Ar-L3k3VfD9bUyhjlRg/edit?usp=drivesdk"
      ]
    },
    {
      "cell_type": "markdown",
      "metadata": {
        "id": "iTEY8wNVBTQQ"
      },
      "source": [
        "**Presentation link:**  https://drive.google.com/file/d/1YfqCRsf059QHBdACn6R7QDvTBXd3bc9z/view?usp=drivesdk"
      ]
    },
    {
      "cell_type": "markdown",
      "metadata": {
        "id": "sSh2f7ekut1C"
      },
      "source": [
        "**output video link:** https://drive.google.com/file/d/1j-MDePfBHeUE_3IIRos6cqwT0k6UpJ5P/view?usp=drivesdk\n",
        "https://drive.google.com/file/d/1QGMzoxeeIN4G-aC29RVElGoht-HE2XTy/view?usp=sharing"
      ]
    },
    {
      "cell_type": "markdown",
      "metadata": {
        "id": "5a5qwZ7KG9L1"
      },
      "source": [
        "**PROBLEM STATEMENT:**\n",
        "\n",
        " Getting Wikipedia articles using their api and use text to speech to read out and vice versa for visually impaired people.\n",
        "\n"
      ]
    },
    {
      "cell_type": "markdown",
      "metadata": {
        "id": "Izy_syrmN-TK"
      },
      "source": [
        "**ABSTRACT:**\n",
        "Currently there are no dialog systems that enable purely voice-based access to the unstructured information on websites such as Wikipedia. Such systems could be revolutionary for non-literate users in the developing world. To investigate interface issues in such a system, we developed VoicePedia, a telephone-based dialog system for searching and browsing Wikipedia. \n",
        "Voice user interfaces (VUIs) are rapidly increasing in popularity in the consumer space. This leads to a concurrent explosion of available applications for such devices, with many industries rushing to offer voice interactions for their products\n",
        "\n"
      ]
    },
    {
      "cell_type": "markdown",
      "metadata": {
        "id": "EGmNTddFBqBT"
      },
      "source": [
        "**INTRODUCTION**\n",
        "We were inspired by the lack of easy accessibility of information to the blind. Over 285 million people in the world are blind, 300 million of those are deaf, 1 million are dumb and many more are suffering from one or more of the above mentioned physical disabilities.\n",
        "First, we implemented a speech-to-text engine so that we can understand the user. Then, we developed a three-part algorithm to find, extract, and parse a Wikipedia article that most nearly matches what the user said. Each part of the algorithm uses the gTTs, playsound, pyAudio, Wikipedia, speech recognition.The first part finds the title of the article, the second part finds the ID of the article, which is necessary to get text from the article, and the third part extracts the article itself.\n",
        "\n"
      ]
    },
    {
      "cell_type": "markdown",
      "metadata": {
        "id": "KCOSs1ONH9V8"
      },
      "source": [
        "# **MODULES USED:**\n",
        "\n",
        "**PLAYSOUND:**\n",
        "\n",
        "The playsound module is a cross platform module that can play audio files. This doesn’t have any dependencies, simply install with pip in your virtualenv and run!\n",
        "It requires one argument - the path to the file with the sound you’d like to play. This may be a local file, or a URL.\n",
        "There’s an optional second argument, block, which is set to True by default. Setting it to False makes the function run asynchronously.\n",
        "From playsound import playsound playsound (audio.mp3)\n",
        "\n",
        "On Windows, uses windll.winmm. WAVE and MP3 have been tested and are known to work. Other file formats may work as well.\n",
        "\n",
        "On OS X, uses AppKit.NSSound. WAVE and MP3 have been tested and are known to work. In general, anything QuickTime can play, playsound should be able to play, for OS X.\n",
        "\n",
        "On Linux, uses GStreamer. Known to work on Ubuntu 14.04 and ElementaryOS Loki. Support for the block argument is currently not implemented.\n",
        "**SpeechRecognition**:\n",
        "\n",
        "The first component of speech recognition is, of course, speech. Speech must be converted from physical sound to an electrical signal with a microphone, and then to digital data with an analog-to-digital converter. Once digitized, several models can be used to transcribe the audio to text.\n",
        "\n",
        "The Recognizer Class:\n",
        "All of the magic in Speech Recognition happens with the Recognizer class.\n",
        "The primary purpose of a Recognizer instance is to recognize speech. Each instance comes with a variety of settings and functionality for recognizing speech from an audio source.\n",
        "To access the Recognizer class, first,we need to import the library :speech_recognition as sr.\n",
        "\n",
        "**gTTs**:\n",
        "\n",
        "gTTS (Google Text-to-Speech), a Python library and CLI tool to interface with Google Translate's text-to-speech API. Write spoken mp3 data to a file, a file-like object (bytestring) for further audio manipulation, or stdout. Or simply pre-generate Google Translate TTS request URLs to feed to an external program.\n",
        "\n",
        "\n",
        "\n",
        "\n",
        "From the block diagram, we can understand that the text being passed is firstly pre-processed with the help of natural language processing, and then using digital signal processing is converted to speech.\n",
        "\n",
        "**Wikipedia module** :\n",
        "\n",
        "Wikipedia being one of the largest and most popular sources for information on the Internet.\n",
        "Wikipedia is a Python library that makes it easy to access and parse data from Wikipedia.\n",
        "\n",
        "\n",
        "\n",
        "In order to extract data from Wikipedia, we must first install the Python Wikipedia library, which wraps the official Wikipedia API. \n",
        "command: pip intsall wikipedia\n",
        "SYNTAX: wikipedia.summary(title,sentences)\n",
        "\n",
        "**PYAUDIO**:\n",
        "\n",
        "PyAudio provides Python bindings for PortAudio, the cross-platform audio I/O library. \n",
        "With PyAudio, you can easily use Python to play and record audio on a variety of platforms. \n",
        "PyAudio is required if and only if you want to use microphone input.\n",
        "\n",
        "\n",
        "Importing PyAudio :import pyaudio\n",
        "\n",
        "\n"
      ]
    },
    {
      "cell_type": "markdown",
      "metadata": {
        "id": "4pkcuINNXYW2"
      },
      "source": [
        "**NOTE**:- We cannot run this code in colab notebook because we cannot install pyaudio in colab  because pyaudio access the hardware parts of system and virtual interfaces like colab or github wont be able to access the hardware components of system like microphones and speaker.\n",
        "Hence,we need to copy this code and run it in our system.\n"
      ]
    },
    {
      "cell_type": "markdown",
      "metadata": {
        "id": "nKzVY7AMSP0O"
      },
      "source": [
        "# Code :"
      ]
    },
    {
      "cell_type": "code",
      "metadata": {
        "id": "k6atQEB-XFmj"
      },
      "source": [
        "#conda/pip install gTTs\n",
        "#conda/pip install SpeechRecognition\n",
        "#conda/pip install pyaudio\n",
        "#conda/pip install playsound\n",
        "#conda/pip install wikipedia\n",
        "\n",
        "from gtts import gTTS\n",
        "import speech_recognition as sr\n",
        "import playsound\n",
        "import wikipedia\n",
        "\n",
        "# The text that you want to convert to audio \n",
        "mytext = 'please say the information u need about '\n",
        "  \n",
        "# Language in which you want to convert \n",
        "language = 'en'\n",
        "  \n",
        "# Passing the text and language to the engine,  \n",
        "# here we have marked slow=False. Which tells  \n",
        "# the module that the converted audio should  \n",
        "# have a high speed \n",
        "myobj = gTTS(text=mytext, lang=language, slow=False) \n",
        "  \n",
        "# Saving the converted audio in a mp3 file named \n",
        "# welcome  \n",
        "myobj.save(\"a5643.mp3\") \n",
        "  \n",
        "# Playing the converted file \n",
        "playsound.playsound('a5643.mp3', True)\n",
        "# Record Audio\n",
        "r = sr.Recognizer()\n",
        "\n",
        "with sr.Microphone() as source:\n",
        "    print(\"u want information about\")\n",
        "    audio = r.listen(source)\n",
        "\n",
        "# Speech recognition using Google Speech Recognition\n",
        "try:\n",
        "    # for testing purposes, we're just using the default API key\n",
        "    # to use another API key, use `r.recognize_google(audio, key=\"GOOGLE_SPEECH_RECOGNITION_API_KEY\")`\n",
        "    # instead of `r.recognize_google(audio)`\n",
        "    #print(\"You said: \" + r.recognize_google(audio))\n",
        "    textGotFromGoogle = r.recognize_google(audio)\n",
        "    print(textGotFromGoogle)\n",
        "except sr.UnknownValueError:\n",
        "    print(\"Google Speech Recognition could not understand audio\")\n",
        "    # The text that you want to convert to audio \n",
        "    mytext = 'Google Speech Recognition could not understand audio  please try again '\n",
        "    # Language in which you want to convert \n",
        "    language = 'en'\n",
        "    myobj = gTTS(text=mytext, lang=language, slow=False) \n",
        "    # Saving the converted audio in a mp3 file named \n",
        "    myobj.save(\"a3.mp3\") \n",
        "    # Playing the converted file \n",
        "    playsound.playsound('a3.mp3', True)\n",
        "    r = sr.Recognizer()\n",
        "    with sr.Microphone() as source:\n",
        "        print(\"u want information about\")\n",
        "        audio = r.listen(source)\n",
        "    textGotFromGoogle = r.recognize_google(audio)\n",
        "    print(textGotFromGoogle)\n",
        "except sr.RequestError as e:\n",
        "    print(\"Could not request results from Google Speech Recognition service; {0}\".format(e)) \n",
        "    # The text that you want to convert to audio \n",
        "    mytext = 'Could not request results from Google Speech Recognition service'\n",
        "    # Language in which you want to convert \n",
        "    language = 'en'\n",
        "    myobj = gTTS(text=mytext, lang=language, slow=False) \n",
        "    # Saving the converted audio in a mp3 file named \n",
        "    myobj.save(\"a3.mp3\") \n",
        "    # Playing the converted file \n",
        "    playsound.playsound('a3.mp3', True)\n",
        "    \n",
        "    \n",
        "    \n",
        "mytext =  wikipedia.summary(textGotFromGoogle)\n",
        "# Language in which you want to convert \n",
        "language = 'en'\n",
        "  \n",
        "# Passing the text and language to the engine,  \n",
        "# here we have marked slow=False. Which tells  \n",
        "# the module that the converted audio should  \n",
        "# have a high speed \n",
        "myobj = gTTS(text=mytext, lang=language, slow=False) \n",
        "  \n",
        "# Saving the converted audio in a mp3 file named   \n",
        "myobj.save(\"3813c.mp3\") \n",
        "# Playing the converted file \n",
        "playsound.playsound('3813c.mp3', True)"
      ],
      "execution_count": null,
      "outputs": []
    }
  ]
}